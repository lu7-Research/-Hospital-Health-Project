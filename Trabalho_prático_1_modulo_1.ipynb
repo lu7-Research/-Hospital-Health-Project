{
  "nbformat": 4,
  "nbformat_minor": 0,
  "metadata": {
    "colab": {
      "name": "Trabalho prático 1 - modulo 1 ",
      "provenance": [],
      "authorship_tag": "ABX9TyNdJQ1e06f8VKeZTbq+eAD4",
      "include_colab_link": true
    },
    "kernelspec": {
      "name": "python3",
      "display_name": "Python 3"
    }
  },
  "cells": [
    {
      "cell_type": "markdown",
      "metadata": {
        "id": "view-in-github",
        "colab_type": "text"
      },
      "source": [
        "<a href=\"https://colab.research.google.com/github/lu7-Research/-Hospital-Health-Project/blob/master/Trabalho_pr%C3%A1tico_1_modulo_1.ipynb\" target=\"_parent\"><img src=\"https://colab.research.google.com/assets/colab-badge.svg\" alt=\"Open In Colab\"/></a>"
      ]
    },
    {
      "cell_type": "code",
      "metadata": {
        "colab": {
          "base_uri": "https://localhost:8080/"
        },
        "id": "uKuFOXpRoao-",
        "outputId": "f8869e59-7552-4bfb-ae8b-f36822766990"
      },
      "source": [
        "idade = int(input(\"Entre com a idade \"))\n",
        "nova_idade = idade + 1\n",
        "print(\"No próximo ano você terá: {} anos\".format(nova_idade))\n",
        "\n"
      ],
      "execution_count": 38,
      "outputs": [
        {
          "output_type": "stream",
          "text": [
            "Entre com a idade 9\n",
            "No próximo ano você terá: 10 anos\n"
          ],
          "name": "stdout"
        }
      ]
    },
    {
      "cell_type": "code",
      "metadata": {
        "colab": {
          "base_uri": "https://localhost:8080/"
        },
        "id": "1apojKlLucYt",
        "outputId": "df5d71aa-57e3-404d-eb9b-97aa1808b90c"
      },
      "source": [
        "lado_a=35\n",
        "lado_b=14.33333\n",
        "area_do_retangulo= (lado_a)*(lado_b)\n",
        "print('O retangulo de lado A = %d e lado B = %.2f é %.3f' %(lado_a, lado_b, area_do_retangulo))"
      ],
      "execution_count": 39,
      "outputs": [
        {
          "output_type": "stream",
          "text": [
            "O retangulo de lado A = 35 e lado B = 14.33 é 501.667\n"
          ],
          "name": "stdout"
        }
      ]
    },
    {
      "cell_type": "code",
      "metadata": {
        "colab": {
          "base_uri": "https://localhost:8080/"
        },
        "id": "KGy50kiDvZTV",
        "outputId": "e08cc701-1199-4107-d833-d37e6d2304a8"
      },
      "source": [
        "lista_1 = [1,2, 'IGTI']\n",
        "lista_2 = [2,3, \"Bootcamp\"]\n",
        "lista_3 = lista_1 + lista_2\n",
        "print(lista_3)"
      ],
      "execution_count": 40,
      "outputs": [
        {
          "output_type": "stream",
          "text": [
            "[1, 2, 'IGTI', 2, 3, 'Bootcamp']\n"
          ],
          "name": "stdout"
        }
      ]
    },
    {
      "cell_type": "code",
      "metadata": {
        "colab": {
          "base_uri": "https://localhost:8080/"
        },
        "id": "KI9KXXC0v4ar",
        "outputId": "611e7da5-2798-4f6c-dd5d-65dda666566c"
      },
      "source": [
        "chute=int(input('Entre com um valor inteiro de 0 a 30 ' ))\n",
        "adivinhacao=[5, 6, 10, 14, 16, 20, 30]\n",
        "if chute in adivinhacao:\n",
        "     print('Você acertou um dos números que eu estava pensando.')\n",
        "if chute > 15:\n",
        "    print('Esse número é maior do que 20.')\n",
        "if chute < 20:\n",
        "    print('Esse número é menor do que 20.')\n",
        "\n",
        "    print('Você é fera.')\n",
        "\n",
        "else:\n",
        "    print('Que pena, você errou. Pode tentar outra vez.')\n",
        "    print('Obrigado por participar.')"
      ],
      "execution_count": 41,
      "outputs": [
        {
          "output_type": "stream",
          "text": [
            "Entre com um valor inteiro de 0 a 30 30\n",
            "Você acertou um dos números que eu estava pensando.\n",
            "Esse número é maior do que 20.\n",
            "Que pena, você errou. Pode tentar outra vez.\n",
            "Obrigado por participar.\n"
          ],
          "name": "stdout"
        }
      ]
    },
    {
      "cell_type": "code",
      "metadata": {
        "colab": {
          "base_uri": "https://localhost:8080/"
        },
        "id": "M_RRK6epxfx1",
        "outputId": "748757a7-4a89-4645-90ea-e1bfe4a9d76d"
      },
      "source": [
        " frutas = [\"maça\", \"banana\", \"uva\", \"goiabada\"]\n",
        " for x in frutas:\n",
        "   if x == \"uva\":\n",
        "     print(x)"
      ],
      "execution_count": 42,
      "outputs": [
        {
          "output_type": "stream",
          "text": [
            "uva\n"
          ],
          "name": "stdout"
        }
      ]
    },
    {
      "cell_type": "code",
      "metadata": {
        "colab": {
          "base_uri": "https://localhost:8080/"
        },
        "id": "sJnM5SB9zBK3",
        "outputId": "831c9e94-eb55-444b-93de-aaedcda82fcd"
      },
      "source": [
        " n = 5\n",
        "while n >= 0:\n",
        "    n -= 1\n",
        "    print(n)"
      ],
      "execution_count": 43,
      "outputs": [
        {
          "output_type": "stream",
          "text": [
            "4\n",
            "3\n",
            "2\n",
            "1\n",
            "0\n",
            "-1\n"
          ],
          "name": "stdout"
        }
      ]
    }
  ]
}